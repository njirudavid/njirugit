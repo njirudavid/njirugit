{
 "cells": [
  {
   "cell_type": "code",
   "execution_count": null,
   "id": "85cca1e0",
   "metadata": {},
   "outputs": [],
   "source": [
    "def complex(a: int, b: int) ->int:\n",
    "    c = float(sum(a,b))\n",
    "    d= multiply(c)\n",
    "    return d\n",
    "\n",
    "print (complex)(2,3)"
   ]
  }
 ],
 "metadata": {
  "language_info": {
   "name": "python"
  }
 },
 "nbformat": 4,
 "nbformat_minor": 5
}
