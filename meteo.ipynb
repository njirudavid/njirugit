{
 "cells": [
  {
   "cell_type": "code",
   "execution_count": 4,
   "id": "c8013ee2",
   "metadata": {},
   "outputs": [
    {
     "name": "stdout",
     "output_type": "stream",
     "text": [
      "data/meteo/VRXA00.202310190530\n"
     ]
    }
   ],
   "source": [
    "file_path = \"data/meteo/VRXA00.202310190530\"\n",
    "print(file_path)"
   ]
  },
  {
   "cell_type": "code",
   "execution_count": 5,
   "id": "bb6e5ff0",
   "metadata": {},
   "outputs": [
    {
     "name": "stdout",
     "output_type": "stream",
     "text": [
      "['16082\\n', 'VRXA00 LSSW 190530\\n', '\\n', 'iii zzzztttt tre200s0 uor200s0 prestas0 fa1010z0 da1010z0 rre150z0 ta1200s0 ua1200s0 pa1stas0 fkl010z0 dkl010z0 ra1150z0 fkl010z1 gor000z0 ta2200s0 ua2200s0\\n', '187 202310190530 007.3 098.6 0662.9 003.4 329.6 00000.00 006.8 100.0 0662.7 003.9 008.6 00000.00 004.8 283.9 7.770 99.320\\n']\n"
     ]
    }
   ],
   "source": [
    "# Read file as text and print content\n",
    "with open(file=file_path) as fh:\n",
    "    file_content = fh.readlines()\n",
    "print (file_content)"
   ]
  },
  {
   "cell_type": "code",
   "execution_count": 6,
   "id": "487e7548",
   "metadata": {},
   "outputs": [
    {
     "name": "stdout",
     "output_type": "stream",
     "text": [
      "iii zzzztttt tre200s0 uor200s0 prestas0 fa1010z0 da1010z0 rre150z0 ta1200s0 ua1200s0 pa1stas0 fkl010z0 dkl010z0 ra1150z0 fkl010z1 gor000z0 ta2200s0 ua2200s0\n",
      "\n"
     ]
    }
   ],
   "source": [
    "header = file_content[3]\n",
    "print (header)"
   ]
  },
  {
   "cell_type": "code",
   "execution_count": 7,
   "id": "7f1b59f7",
   "metadata": {},
   "outputs": [
    {
     "name": "stdout",
     "output_type": "stream",
     "text": [
      "['iii', 'zzzztttt', 'tre200s0', 'uor200s0', 'prestas0', 'fa1010z0', 'da1010z0', 'rre150z0', 'ta1200s0', 'ua1200s0', 'pa1stas0', 'fkl010z0', 'dkl010z0', 'ra1150z0', 'fkl010z1', 'gor000z0', 'ta2200s0', 'ua2200s0']\n"
     ]
    }
   ],
   "source": [
    "header_list = header.split()\n",
    "print(header_list)"
   ]
  },
  {
   "cell_type": "code",
   "execution_count": 8,
   "id": "d3bb193c",
   "metadata": {},
   "outputs": [
    {
     "name": "stdout",
     "output_type": "stream",
     "text": [
      "tre200s0\n"
     ]
    }
   ],
   "source": [
    "header=header_list[2]\n",
    "print(header)"
   ]
  },
  {
   "cell_type": "code",
   "execution_count": 9,
   "id": "ed4ae1a9",
   "metadata": {},
   "outputs": [
    {
     "name": "stdout",
     "output_type": "stream",
     "text": [
      "['187', '202310190530', '007.3', '098.6', '0662.9', '003.4', '329.6', '00000.00', '006.8', '100.0', '0662.7', '003.9', '008.6', '00000.00', '004.8', '283.9', '7.770', '99.320']\n"
     ]
    }
   ],
   "source": [
    "values=file_content[4].split()\n",
    "print(values)"
   ]
  },
  {
   "cell_type": "code",
   "execution_count": 10,
   "id": "9015bb54",
   "metadata": {},
   "outputs": [
    {
     "name": "stdout",
     "output_type": "stream",
     "text": [
      "temperature_value: 007.3\n"
     ]
    }
   ],
   "source": [
    "#extract temperature\n",
    "temp=values[2]\n",
    "print(\"temperature_value:\",temp)"
   ]
  },
  {
   "cell_type": "code",
   "execution_count": 11,
   "id": "08a3ebb5",
   "metadata": {},
   "outputs": [
    {
     "name": "stdout",
     "output_type": "stream",
     "text": [
      "0 : 1\n",
      "1 : 2\n",
      "2 : 4\n",
      "3 : 7\n",
      "4 : 11\n",
      "5 : 16\n",
      "6 : a is too big\n",
      "7 : a is too big\n",
      "8 : a is too big\n",
      "9 : a is too big\n"
     ]
    }
   ],
   "source": [
    "a = 1\n",
    "for i in range(10):\n",
    "    # a += 1\n",
    "    a = a + i\n",
    "    if a < 20:\n",
    "        print(i, \":\", a)\n",
    "    else:\n",
    "        print(i, \":\", \"a is too big\")"
   ]
  },
  {
   "cell_type": "code",
   "execution_count": 12,
   "id": "358e2b10",
   "metadata": {},
   "outputs": [
    {
     "name": "stdout",
     "output_type": "stream",
     "text": [
      "VRXA00.202310190000\n",
      "VRXA00.202310190520\n",
      "VRXA00.202310190530\n",
      "VRXA00.202310190540\n",
      "VRXA00.202310190600\n",
      "VRXA00.202310190610\n",
      "VRXA00.202310190630\n",
      "VRXA00.202310190640\n",
      "VRXA00.202310190650\n",
      "VRXA00.202310190700\n",
      "VRXA00.202401111520\n",
      "VRXA00.202401111530\n",
      "VRXA00.202401111540\n"
     ]
    }
   ],
   "source": [
    "import os\n",
    "path = \"data/meteo\"\n",
    "files = os.listdir(path)\n",
    "for file in files:\n",
    "    if \".zip\" in file:\n",
    "        continue\n",
    "    else:\n",
    "        print(file)"
   ]
  },
  {
   "cell_type": "code",
   "execution_count": 13,
   "id": "42445f66",
   "metadata": {},
   "outputs": [
    {
     "name": "stdout",
     "output_type": "stream",
     "text": [
      "VRXA00.202310190000 temp= 005.1\n",
      "VRXA00.202310190520 temp= /\n",
      "VRXA00.202310190530 temp= 007.3\n",
      "VRXA00.202310190540 temp= 007.0\n",
      "VRXA00.202310190600 temp= 007.8\n",
      "VRXA00.202310190610 temp= 008.6\n",
      "VRXA00.202310190630 temp= 008.0\n",
      "VRXA00.202310190640 temp= 008.1\n",
      "VRXA00.202310190650 temp= 008.5\n",
      "VRXA00.202310190700 temp= 008.6\n",
      "VRXA00.202401111520 temp= /\n",
      "VRXA00.202401111530 temp= /\n",
      "VRXA00.202401111540 temp= /\n"
     ]
    }
   ],
   "source": [
    "import os\n",
    "path = \"data/meteo\"\n",
    "\n",
    "files = os.listdir(path)\n",
    "\n",
    "for file in files:\n",
    "    if \".zip\" in file:\n",
    "        continue\n",
    "    else:\n",
    "        # print(file)\n",
    "\n",
    "        # Read file as text and print content\n",
    "        with open(file=os.path.join(path, file)) as fh:\n",
    "            file_content = fh.readlines()\n",
    "\n",
    "        temp = file_content[4].split()[2]\n",
    "        print(file, \"temp=\", temp)\n",
    "        "
   ]
  },
  {
   "cell_type": "code",
   "execution_count": 14,
   "id": "7a34450f",
   "metadata": {},
   "outputs": [
    {
     "name": "stdout",
     "output_type": "stream",
     "text": [
      "['202310190000', '202310190520', '202310190530', '202310190540', '202310190600', '202310190610', '202310190630', '202310190640', '202310190650', '202310190700', '202401111520', '202401111530', '202401111540']\n",
      "['005.1', '/', '007.3', '007.0', '007.8', '008.6', '008.0', '008.1', '008.5', '008.6', '/', '/', '/']\n"
     ]
    }
   ],
   "source": [
    "import os\n",
    "path = \"data/meteo\"\n",
    "\n",
    "datetimes = list()\n",
    "temperatures = list()\n",
    "\n",
    "# list all files in path\n",
    "files = os.listdir(path)\n",
    "\n",
    "for file in files:\n",
    "    if \".zip\" in file:\n",
    "        continue\n",
    "    else:\n",
    "        # datetime = file.split(sep=\".\")[1]\n",
    "        datetime = file.replace(\"VRXA00.\", \"\")\n",
    "        datetimes.append(datetime)\n",
    "\n",
    "        # Read file as text, extract temperature and print value\n",
    "        with open(file=os.path.join(path, file)) as fh:\n",
    "            file_content = fh.readlines()\n",
    "\n",
    "        temperature = file_content[4].split()[2]\n",
    "        temperatures.append(temperature) \n",
    "\n",
    "print(datetimes)\n",
    "print(temperatures)"
   ]
  },
  {
   "cell_type": "code",
   "execution_count": 15,
   "id": "93e7929c",
   "metadata": {},
   "outputs": [
    {
     "name": "stdout",
     "output_type": "stream",
     "text": [
      "['202310190000', '202310190520', '202310190530', '202310190540', '202310190600', '202310190610', '202310190630', '202310190640', '202310190650', '202310190700', '202401111520', '202401111530', '202401111540']\n",
      "[5.1, None, 7.3, 7.0, 7.8, 8.6, 8.0, 8.1, 8.5, 8.6, None, None, None]\n"
     ]
    }
   ],
   "source": [
    "import os\n",
    "path = \"data/meteo\"\n",
    "\n",
    "datetimes = list()\n",
    "temperatures = list()\n",
    "\n",
    "# list all files in path\n",
    "files = os.listdir(path)\n",
    "\n",
    "for file in files:\n",
    "    if \".zip\" in file:\n",
    "        continue\n",
    "    else:\n",
    "        # datetime = file.split(sep=\".\")[1]\n",
    "        datetime = file.replace(\"VRXA00.\", \"\")\n",
    "        datetimes.append(datetime)\n",
    "\n",
    "        # Read file as text and print content\n",
    "        with open(file=os.path.join(path, file)) as fh:\n",
    "            file_content = fh.readlines()\n",
    "\n",
    "        temperature = file_content[4].split()[2]\n",
    "        try:\n",
    "            temperature = float(temperature)\n",
    "        except:\n",
    "            temperature = None\n",
    "        temperatures.append(temperature)\n",
    "\n",
    "print(datetimes)\n",
    "print(temperatures)"
   ]
  },
  {
   "cell_type": "code",
   "execution_count": 16,
   "id": "68b407b8",
   "metadata": {},
   "outputs": [
    {
     "name": "stdout",
     "output_type": "stream",
     "text": [
      "[datetime.datetime(2023, 10, 19, 0, 0, tzinfo=datetime.timezone.utc), datetime.datetime(2023, 10, 19, 5, 20, tzinfo=datetime.timezone.utc), datetime.datetime(2023, 10, 19, 5, 30, tzinfo=datetime.timezone.utc), datetime.datetime(2023, 10, 19, 5, 40, tzinfo=datetime.timezone.utc), datetime.datetime(2023, 10, 19, 6, 0, tzinfo=datetime.timezone.utc), datetime.datetime(2023, 10, 19, 6, 10, tzinfo=datetime.timezone.utc), datetime.datetime(2023, 10, 19, 6, 30, tzinfo=datetime.timezone.utc), datetime.datetime(2023, 10, 19, 6, 40, tzinfo=datetime.timezone.utc), datetime.datetime(2023, 10, 19, 6, 50, tzinfo=datetime.timezone.utc), datetime.datetime(2023, 10, 19, 7, 0, tzinfo=datetime.timezone.utc), datetime.datetime(2024, 1, 11, 15, 20, tzinfo=datetime.timezone.utc), datetime.datetime(2024, 1, 11, 15, 30, tzinfo=datetime.timezone.utc), datetime.datetime(2024, 1, 11, 15, 40, tzinfo=datetime.timezone.utc)]\n"
     ]
    }
   ],
   "source": [
    "#convert datetimes into proper date/time stamps\n",
    "from datetime import datetime, timezone \n",
    "\n",
    "datetimes_utc = [datetime.strptime(ds, \"%Y%m%d%H%M\").replace(tzinfo=timezone.utc)for ds in datetimes]\n",
    "\n",
    "print(datetimes_utc)"
   ]
  },
  {
   "cell_type": "code",
   "execution_count": 17,
   "id": "90956740",
   "metadata": {},
   "outputs": [
    {
     "data": {
      "text/html": [
       "<div><style>\n",
       ".dataframe > thead > tr,\n",
       ".dataframe > tbody > tr {\n",
       "  text-align: right;\n",
       "  white-space: pre-wrap;\n",
       "}\n",
       "</style>\n",
       "<small>shape: (13, 2)</small><table border=\"1\" class=\"dataframe\"><thead><tr><th>dtm</th><th>T</th></tr><tr><td>datetime[μs, UTC]</td><td>f64</td></tr></thead><tbody><tr><td>2023-10-19 00:00:00 UTC</td><td>5.1</td></tr><tr><td>2023-10-19 05:20:00 UTC</td><td>null</td></tr><tr><td>2023-10-19 05:30:00 UTC</td><td>7.3</td></tr><tr><td>2023-10-19 05:40:00 UTC</td><td>7.0</td></tr><tr><td>2023-10-19 06:00:00 UTC</td><td>7.8</td></tr><tr><td>&hellip;</td><td>&hellip;</td></tr><tr><td>2023-10-19 06:50:00 UTC</td><td>8.5</td></tr><tr><td>2023-10-19 07:00:00 UTC</td><td>8.6</td></tr><tr><td>2024-01-11 15:20:00 UTC</td><td>null</td></tr><tr><td>2024-01-11 15:30:00 UTC</td><td>null</td></tr><tr><td>2024-01-11 15:40:00 UTC</td><td>null</td></tr></tbody></table></div>"
      ],
      "text/plain": [
       "shape: (13, 2)\n",
       "┌─────────────────────────┬──────┐\n",
       "│ dtm                     ┆ T    │\n",
       "│ ---                     ┆ ---  │\n",
       "│ datetime[μs, UTC]       ┆ f64  │\n",
       "╞═════════════════════════╪══════╡\n",
       "│ 2023-10-19 00:00:00 UTC ┆ 5.1  │\n",
       "│ 2023-10-19 05:20:00 UTC ┆ null │\n",
       "│ 2023-10-19 05:30:00 UTC ┆ 7.3  │\n",
       "│ 2023-10-19 05:40:00 UTC ┆ 7.0  │\n",
       "│ 2023-10-19 06:00:00 UTC ┆ 7.8  │\n",
       "│ …                       ┆ …    │\n",
       "│ 2023-10-19 06:50:00 UTC ┆ 8.5  │\n",
       "│ 2023-10-19 07:00:00 UTC ┆ 8.6  │\n",
       "│ 2024-01-11 15:20:00 UTC ┆ null │\n",
       "│ 2024-01-11 15:30:00 UTC ┆ null │\n",
       "│ 2024-01-11 15:40:00 UTC ┆ null │\n",
       "└─────────────────────────┴──────┘"
      ]
     },
     "execution_count": 17,
     "metadata": {},
     "output_type": "execute_result"
    }
   ],
   "source": [
    "# Read lists into a polars DataFrame for plotting\n",
    "\n",
    "import polars as pl\n",
    "df = pl.DataFrame(zip(datetimes_utc, temperatures))\n",
    "df.columns=[\"dtm\", \"T\"]\n",
    "df = df.sort(\"dtm\")\n",
    "df"
   ]
  },
  {
   "cell_type": "code",
   "execution_count": 24,
   "id": "0a2abbba",
   "metadata": {},
   "outputs": [
    {
     "data": {
      "text/plain": [
       "<matplotlib.collections.PathCollection at 0x20f6582bc50>"
      ]
     },
     "execution_count": 24,
     "metadata": {},
     "output_type": "execute_result"
    },
    {
     "data": {
      "image/png": "[encoded data removed]",
      "text/plain": [
       "<Figure size 640x480 with 1 Axes>"
      ]
     },
     "metadata": {},
     "output_type": "display_data"
    }
   ],
   "source": [
    "\n",
    "import matplotlib.pyplot as plt\n",
    "plt.scatter(df[\"dtm\"], df[\"T\"])"
   ]
  },
  {
   "cell_type": "code",
   "execution_count": 21,
   "id": "4cb55fbb",
   "metadata": {},
   "outputs": [
    {
     "ename": "ModuleUpgradeRequiredError",
     "evalue": "altair>=5.4.0 is required for `.plot`",
     "output_type": "error",
     "traceback": [
      "\u001b[31m---------------------------------------------------------------------------\u001b[39m",
      "\u001b[31mModuleUpgradeRequiredError\u001b[39m                Traceback (most recent call last)",
      "\u001b[36mCell\u001b[39m\u001b[36m \u001b[39m\u001b[32mIn[21]\u001b[39m\u001b[32m, line 4\u001b[39m\n\u001b[32m      1\u001b[39m \u001b[38;5;66;03m#% matplotlib\u001b[39;00m\n\u001b[32m      2\u001b[39m \u001b[38;5;28;01mimport\u001b[39;00m\u001b[38;5;250m \u001b[39m\u001b[34;01mmatplotlib\u001b[39;00m\u001b[34;01m.\u001b[39;00m\u001b[34;01mpyplot\u001b[39;00m\u001b[38;5;250m \u001b[39m\u001b[38;5;28;01mas\u001b[39;00m\u001b[38;5;250m \u001b[39m\u001b[34;01mplt\u001b[39;00m\n\u001b[32m----> \u001b[39m\u001b[32m4\u001b[39m \u001b[43mdf\u001b[49m\u001b[43m.\u001b[49m\u001b[43mplot\u001b[49m.point(x=\u001b[33m\"\u001b[39m\u001b[33mdtm\u001b[39m\u001b[33m\"\u001b[39m, y=\u001b[33m\"\u001b[39m\u001b[33mT\u001b[39m\u001b[33m\"\u001b[39m)\n\u001b[32m      7\u001b[39m fig = plt.figure()\n\u001b[32m      8\u001b[39m plt.scatter(df[\u001b[33m\"\u001b[39m\u001b[33mdtm\u001b[39m\u001b[33m\"\u001b[39m], df[\u001b[33m\"\u001b[39m\u001b[33mT\u001b[39m\u001b[33m\"\u001b[39m])\n",
      "\u001b[36mFile \u001b[39m\u001b[32md:\\Python\\njirugit\\njirugit\\.venv\\Lib\\site-packages\\polars\\_utils\\unstable.py:58\u001b[39m, in \u001b[36munstable.<locals>.decorate.<locals>.wrapper\u001b[39m\u001b[34m(*args, **kwargs)\u001b[39m\n\u001b[32m     55\u001b[39m \u001b[38;5;129m@wraps\u001b[39m(function)\n\u001b[32m     56\u001b[39m \u001b[38;5;28;01mdef\u001b[39;00m\u001b[38;5;250m \u001b[39m\u001b[34mwrapper\u001b[39m(*args: P.args, **kwargs: P.kwargs) -> T:\n\u001b[32m     57\u001b[39m     issue_unstable_warning(\u001b[33mf\u001b[39m\u001b[33m\"\u001b[39m\u001b[33m`\u001b[39m\u001b[38;5;132;01m{\u001b[39;00mfunction.\u001b[34m__name__\u001b[39m\u001b[38;5;132;01m}\u001b[39;00m\u001b[33m` is considered unstable.\u001b[39m\u001b[33m\"\u001b[39m)\n\u001b[32m---> \u001b[39m\u001b[32m58\u001b[39m     \u001b[38;5;28;01mreturn\u001b[39;00m \u001b[43mfunction\u001b[49m\u001b[43m(\u001b[49m\u001b[43m*\u001b[49m\u001b[43margs\u001b[49m\u001b[43m,\u001b[49m\u001b[43m \u001b[49m\u001b[43m*\u001b[49m\u001b[43m*\u001b[49m\u001b[43mkwargs\u001b[49m\u001b[43m)\u001b[49m\n",
      "\u001b[36mFile \u001b[39m\u001b[32md:\\Python\\njirugit\\njirugit\\.venv\\Lib\\site-packages\\polars\\dataframe\\frame.py:704\u001b[39m, in \u001b[36mDataFrame.plot\u001b[39m\u001b[34m(self)\u001b[39m\n\u001b[32m    702\u001b[39m \u001b[38;5;28;01mif\u001b[39;00m \u001b[38;5;129;01mnot\u001b[39;00m _ALTAIR_AVAILABLE \u001b[38;5;129;01mor\u001b[39;00m parse_version(altair.__version__) < (\u001b[32m5\u001b[39m, \u001b[32m4\u001b[39m, \u001b[32m0\u001b[39m):\n\u001b[32m    703\u001b[39m     msg = \u001b[33m\"\u001b[39m\u001b[33maltair>=5.4.0 is required for `.plot`\u001b[39m\u001b[33m\"\u001b[39m\n\u001b[32m--> \u001b[39m\u001b[32m704\u001b[39m     \u001b[38;5;28;01mraise\u001b[39;00m ModuleUpgradeRequiredError(msg)\n\u001b[32m    705\u001b[39m \u001b[38;5;28;01mreturn\u001b[39;00m DataFramePlot(\u001b[38;5;28mself\u001b[39m)\n",
      "\u001b[31mModuleUpgradeRequiredError\u001b[39m: altair>=5.4.0 is required for `.plot`"
     ]
    }
   ],
   "source": [
    "#% matplotlib\n",
    "import matplotlib.pyplot as plt\n",
    "\n",
    "df.plot.point(x=\"dtm\", y=\"T\")\n",
    "\n",
    "\n",
    "fig = plt.figure()\n",
    "plt.scatter(df[\"dtm\"], df[\"T\"])\n",
    "\n",
    "# Using matplotlib backend :widget out[25]:\n",
    "#<matplotlib.collections.pathCollection at 0x75e9b84aa780>\n"
   ]
  }
 ],
 "metadata": {
  "kernelspec": {
   "display_name": ".venv",
   "language": "python",
   "name": "python3"
  },
  "language_info": {
   "codemirror_mode": {
    "name": "ipython",
    "version": 3
   },
   "file_extension": ".py",
   "mimetype": "text/x-python",
   "name": "python",
   "nbconvert_exporter": "python",
   "pygments_lexer": "ipython3",
   "version": "3.13.3"
  }
 },
 "nbformat": 4,
 "nbformat_minor": 5
}
